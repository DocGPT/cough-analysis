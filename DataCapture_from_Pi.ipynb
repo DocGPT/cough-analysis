{
 "cells": [
  {
   "cell_type": "markdown",
   "id": "71728bae",
   "metadata": {},
   "source": [
    "# 0. Run this first.\n",
    "## Ignore the warnings here"
   ]
  },
  {
   "cell_type": "code",
   "execution_count": null,
   "id": "c623b6f8",
   "metadata": {
    "scrolled": true
   },
   "outputs": [],
   "source": [
    "from IPython.display import Audio\n",
    "from IPython.core.display import display\n",
    "import time\n",
    "import requests\n",
    "from tqdm.notebook import tqdm, trange\n",
    "import glob\n",
    "from respeaker import Microphone\n",
    "\n",
    "\n",
    "import warnings\n",
    "warnings.filterwarnings('ignore')\n",
    "\n",
    "try:\n",
    "    mic = Microphone()\n",
    "except:\n",
    "    print(\"Error - Mic - could-not-be-acquired\")\n",
    "\n",
    "dur=2\n",
    "subject='change-my-name'\n",
    "#media handling\n",
    "def waiter():\n",
    "    for i in tqdm(range(dur)):\n",
    "        time.sleep(1)\n",
    "def recorder(filename):\n",
    "    timestr = time.strftime(\"%Y%m%d_%H%M%S\")\n",
    "    outname = subject+filename+timestr+'.wav'\n",
    "    mic.record(outname, seconds=dur)\n",
    "    waiter()\n",
    "    display(Audio(outname))\n",
    "\n",
    "#media upload/download\n",
    "def create_folder():\n",
    "    print(\"testing...\")"
   ]
  },
  {
   "cell_type": "markdown",
   "id": "38f2404f",
   "metadata": {},
   "source": [
    "## 1. Sleeping on their back"
   ]
  },
  {
   "cell_type": "markdown",
   "id": "54c0c704",
   "metadata": {},
   "source": [
    "### 1.1 Microphones placed on a table at the same height as the bed mattress microphones are placed 2 ft from the center of the pillow"
   ]
  },
  {
   "cell_type": "markdown",
   "id": "11aed5d1",
   "metadata": {},
   "source": [
    "#### 1.1.1 Cough Episode Condition 1 – 10 second continuous coughing; pause 50 seconds; repeat 3X; "
   ]
  },
  {
   "cell_type": "code",
   "execution_count": null,
   "id": "a859655f",
   "metadata": {},
   "outputs": [],
   "source": [
    "recorder('_1.1.1_')"
   ]
  },
  {
   "cell_type": "markdown",
   "id": "37723cab",
   "metadata": {},
   "source": [
    "#### 1.1.2 Cough Episode Condition 2 – 10 second continuous coughing; pause 20 seconds; clap 10 seconds; pause 20 seconds; 3X"
   ]
  },
  {
   "cell_type": "code",
   "execution_count": null,
   "id": "8ecc19eb",
   "metadata": {},
   "outputs": [],
   "source": [
    "recorder('_1.1.2_')"
   ]
  },
  {
   "cell_type": "markdown",
   "id": "b442fa4b",
   "metadata": {},
   "source": [
    "#### 1.1.3 Clapping Episode Condition 3 – 10 seconds clapping; 20 seconds pause; 6X"
   ]
  },
  {
   "cell_type": "code",
   "execution_count": null,
   "id": "c131b05e",
   "metadata": {},
   "outputs": [],
   "source": [
    "recorder('_1.1.3_')"
   ]
  },
  {
   "cell_type": "markdown",
   "id": "d583ae40",
   "metadata": {},
   "source": [
    "### 1.2 Microphones placed on a table at the same height as the bed mattress microphones are placed 4 ft from the center of the pillow"
   ]
  },
  {
   "cell_type": "markdown",
   "id": "fcf7e382",
   "metadata": {},
   "source": [
    "#### 1.2.1 Cough Episode Condition 1 – 10 second continuous coughing; pause 50 seconds; repeat 3X; "
   ]
  },
  {
   "cell_type": "code",
   "execution_count": null,
   "id": "c75c0c5e",
   "metadata": {},
   "outputs": [],
   "source": [
    "recorder('_1.2.1_')"
   ]
  },
  {
   "cell_type": "markdown",
   "id": "9781ed68",
   "metadata": {},
   "source": [
    "#### 1.2.2 Cough Episode Condition 2 – 10 second continuous coughing; pause 20 seconds; clap 10 seconds; pause 20 seconds; 3X"
   ]
  },
  {
   "cell_type": "code",
   "execution_count": null,
   "id": "fd96973f",
   "metadata": {},
   "outputs": [],
   "source": [
    "recorder('_1.2.2_')"
   ]
  },
  {
   "cell_type": "markdown",
   "id": "03ddf4b1",
   "metadata": {},
   "source": [
    "#### 1.2.3 Clapping Episode Condition 3 – 10 seconds clapping; 20 seconds pause; 6X"
   ]
  },
  {
   "cell_type": "code",
   "execution_count": null,
   "id": "cfb9f84a",
   "metadata": {},
   "outputs": [],
   "source": [
    "recorder('_1.2.3_')"
   ]
  },
  {
   "cell_type": "markdown",
   "id": "06587b83",
   "metadata": {},
   "source": [
    "### 1.3 microphones are located 6 inches below the top height of the bed mattress; microphones are placed 2 ft from the center of the pillow"
   ]
  },
  {
   "cell_type": "markdown",
   "id": "3fcc0788",
   "metadata": {},
   "source": [
    "#### 1.3.1 Cough Episode Condition 1 – 10 second continuous coughing; pause 50 seconds; repeat 3X; "
   ]
  },
  {
   "cell_type": "code",
   "execution_count": null,
   "id": "b230317b",
   "metadata": {},
   "outputs": [],
   "source": [
    "recorder('_1.3.1_')"
   ]
  },
  {
   "cell_type": "markdown",
   "id": "068095e3",
   "metadata": {},
   "source": [
    "#### 1.3.2 Cough Episode Condition 2 – 10 second continuous coughing; pause 20 seconds; clap 10 seconds; pause 20 seconds; 3X"
   ]
  },
  {
   "cell_type": "code",
   "execution_count": null,
   "id": "735f4974",
   "metadata": {},
   "outputs": [],
   "source": [
    "recorder('_1.3.2_')"
   ]
  },
  {
   "cell_type": "markdown",
   "id": "9d0cf55e",
   "metadata": {},
   "source": [
    "#### 1.3.3 Clapping Episode Condition 3 – 10 seconds clapping; 20 seconds pause; 6X"
   ]
  },
  {
   "cell_type": "code",
   "execution_count": null,
   "id": "7f495edb",
   "metadata": {},
   "outputs": [],
   "source": [
    "recorder('_1.3.3_')"
   ]
  },
  {
   "cell_type": "markdown",
   "id": "e0d50520",
   "metadata": {},
   "source": [
    "### 1.4 Distance two and directional placement two – microphones are located 6 inches below the top height of the bed mattress; microphones are 4 ft from center of the pillow. "
   ]
  },
  {
   "cell_type": "markdown",
   "id": "3cf4feec",
   "metadata": {},
   "source": [
    "#### 1.4.1 Cough Episode Condition 1 – 10 second continuous coughing; pause 50 seconds; repeat 3X; "
   ]
  },
  {
   "cell_type": "code",
   "execution_count": null,
   "id": "99cf4d76",
   "metadata": {},
   "outputs": [],
   "source": [
    "recorder('_1.4.1_')"
   ]
  },
  {
   "cell_type": "markdown",
   "id": "0b59bef0",
   "metadata": {},
   "source": [
    "#### 1.4.2 Cough Episode Condition 2 – 10 second continuous coughing; pause 20 seconds; clap 10 seconds; pause 20 seconds; 3X"
   ]
  },
  {
   "cell_type": "code",
   "execution_count": null,
   "id": "313ecca0",
   "metadata": {},
   "outputs": [],
   "source": [
    "recorder('_1.4.2_')"
   ]
  },
  {
   "cell_type": "markdown",
   "id": "d6ea87c8",
   "metadata": {},
   "source": [
    "#### 1.4.3 Clapping Episode Condition 3 – 10 seconds clapping; 20 seconds pause; 6X"
   ]
  },
  {
   "cell_type": "code",
   "execution_count": null,
   "id": "23199993",
   "metadata": {},
   "outputs": [],
   "source": [
    "recorder('_1.4.3_')"
   ]
  },
  {
   "cell_type": "markdown",
   "id": "cfaed07e",
   "metadata": {},
   "source": [
    "## 2. Sleeping on their side"
   ]
  },
  {
   "cell_type": "markdown",
   "id": "7142a316",
   "metadata": {},
   "source": [
    "### 2.1 Microphones placed on a table at the same height as the bed mattress microphones are placed 2 ft from the center of the pillow"
   ]
  },
  {
   "cell_type": "markdown",
   "id": "991e20c0",
   "metadata": {},
   "source": [
    "#### 2.1.1 Cough Episode Condition 1 – 10 second continuous coughing; pause 50 seconds; repeat 3X; "
   ]
  },
  {
   "cell_type": "code",
   "execution_count": null,
   "id": "94248402",
   "metadata": {},
   "outputs": [],
   "source": [
    "recorder('_2.1.1_')"
   ]
  },
  {
   "cell_type": "markdown",
   "id": "964a0636",
   "metadata": {},
   "source": [
    "#### 2.1.2 Cough Episode Condition 2 – 10 second continuous coughing; pause 20 seconds; clap 10 seconds; pause 20 seconds; 3X"
   ]
  },
  {
   "cell_type": "code",
   "execution_count": null,
   "id": "9b3d0fb6",
   "metadata": {},
   "outputs": [],
   "source": [
    "recorder('_2.1.2_')"
   ]
  },
  {
   "cell_type": "markdown",
   "id": "e2b53574",
   "metadata": {},
   "source": [
    "#### 2.1.3 Clapping Episode Condition 3 – 10 seconds clapping; 20 seconds pause; 6X"
   ]
  },
  {
   "cell_type": "code",
   "execution_count": null,
   "id": "a8b13dfa",
   "metadata": {},
   "outputs": [],
   "source": [
    "recorder('_2.1.3_')"
   ]
  },
  {
   "cell_type": "markdown",
   "id": "73c2c4e4",
   "metadata": {},
   "source": [
    "### 2.2 Microphones placed on a table at the same height as the bed mattress microphones are placed 4 ft from the center of the pillow"
   ]
  },
  {
   "cell_type": "markdown",
   "id": "58192e07",
   "metadata": {},
   "source": [
    "#### 2.2.1 Cough Episode Condition 1 – 10 second continuous coughing; pause 50 seconds; repeat 3X; "
   ]
  },
  {
   "cell_type": "code",
   "execution_count": null,
   "id": "b214fd61",
   "metadata": {},
   "outputs": [],
   "source": [
    "recorder('_2.2.1_')"
   ]
  },
  {
   "cell_type": "markdown",
   "id": "a70815a1",
   "metadata": {},
   "source": [
    "#### 2.2.2 Cough Episode Condition 2 – 10 second continuous coughing; pause 20 seconds; clap 10 seconds; pause 20 seconds; 3X"
   ]
  },
  {
   "cell_type": "code",
   "execution_count": null,
   "id": "07214446",
   "metadata": {},
   "outputs": [],
   "source": [
    "recorder('_2.2.2_')"
   ]
  },
  {
   "cell_type": "markdown",
   "id": "782bb84c",
   "metadata": {},
   "source": [
    "#### 2.2.3 Clapping Episode Condition 3 – 10 seconds clapping; 20 seconds pause; 6X"
   ]
  },
  {
   "cell_type": "code",
   "execution_count": null,
   "id": "0c4b6016",
   "metadata": {},
   "outputs": [],
   "source": [
    "recorder('_2.2.3_')"
   ]
  },
  {
   "cell_type": "markdown",
   "id": "41f4e845",
   "metadata": {},
   "source": [
    "### 2.3 microphones are located 6 inches below the top height of the bed mattress; microphones are placed 2 ft from the center of the pillow"
   ]
  },
  {
   "cell_type": "markdown",
   "id": "77790d81",
   "metadata": {},
   "source": [
    "#### 2.3.1 Cough Episode Condition 1 – 10 second continuous coughing; pause 50 seconds; repeat 3X; "
   ]
  },
  {
   "cell_type": "code",
   "execution_count": null,
   "id": "be23c149",
   "metadata": {},
   "outputs": [],
   "source": [
    "recorder('_2.3.1_')"
   ]
  },
  {
   "cell_type": "markdown",
   "id": "fb84a488",
   "metadata": {},
   "source": [
    "#### 2.3.2 Cough Episode Condition 2 – 10 second continuous coughing; pause 20 seconds; clap 10 seconds; pause 20 seconds; 3X"
   ]
  },
  {
   "cell_type": "code",
   "execution_count": null,
   "id": "178db9c8",
   "metadata": {},
   "outputs": [],
   "source": [
    "recorder('_2.3.2_')"
   ]
  },
  {
   "cell_type": "markdown",
   "id": "58a9d597",
   "metadata": {},
   "source": [
    "#### 2.3.3 Clapping Episode Condition 3 – 10 seconds clapping; 20 seconds pause; 6X"
   ]
  },
  {
   "cell_type": "code",
   "execution_count": null,
   "id": "3dd68eb4",
   "metadata": {},
   "outputs": [],
   "source": [
    "recorder('_2.3.3_')"
   ]
  },
  {
   "cell_type": "markdown",
   "id": "10f56410",
   "metadata": {},
   "source": [
    "### 2.4 Distance two and directional placement two – microphones are located 6 inches below the top height of the bed mattress; microphones are 4 ft from center of the pillow. "
   ]
  },
  {
   "cell_type": "markdown",
   "id": "226a5ce1",
   "metadata": {},
   "source": [
    "#### 2.4.1 Cough Episode Condition 1 – 10 second continuous coughing; pause 50 seconds; repeat 3X; "
   ]
  },
  {
   "cell_type": "code",
   "execution_count": null,
   "id": "6759856f",
   "metadata": {},
   "outputs": [],
   "source": [
    "recorder('_2.4.1_')"
   ]
  },
  {
   "cell_type": "markdown",
   "id": "d68ca646",
   "metadata": {},
   "source": [
    "#### 2.4.2 Cough Episode Condition 2 – 10 second continuous coughing; pause 20 seconds; clap 10 seconds; pause 20 seconds; 3X"
   ]
  },
  {
   "cell_type": "code",
   "execution_count": null,
   "id": "ac30e623",
   "metadata": {},
   "outputs": [],
   "source": [
    "recorder('_2.4.2_')"
   ]
  },
  {
   "cell_type": "markdown",
   "id": "43ec19a2",
   "metadata": {},
   "source": [
    "#### 2.4.3 Clapping Episode Condition 3 – 10 seconds clapping; 20 seconds pause; 6X"
   ]
  },
  {
   "cell_type": "code",
   "execution_count": null,
   "id": "ccbf7c2b",
   "metadata": {},
   "outputs": [],
   "source": [
    "recorder('_2.4.3_')"
   ]
  },
  {
   "cell_type": "markdown",
   "id": "19a4c2df",
   "metadata": {},
   "source": [
    "## 3. Sleeping on their stomach"
   ]
  },
  {
   "cell_type": "markdown",
   "id": "be35c76e",
   "metadata": {},
   "source": [
    "### 3.1 Microphones placed on a table at the same height as the bed mattress microphones are placed 2 ft from the center of the pillow"
   ]
  },
  {
   "cell_type": "markdown",
   "id": "c4811198",
   "metadata": {},
   "source": [
    "#### 3.1.1 Cough Episode Condition 1 – 10 second continuous coughing; pause 50 seconds; repeat 3X; "
   ]
  },
  {
   "cell_type": "code",
   "execution_count": null,
   "id": "bf2a9d2b",
   "metadata": {},
   "outputs": [],
   "source": [
    "recorder('_3.1.1_')"
   ]
  },
  {
   "cell_type": "markdown",
   "id": "fd7e40ca",
   "metadata": {},
   "source": [
    "#### 3.1.2 Cough Episode Condition 2 – 10 second continuous coughing; pause 20 seconds; clap 10 seconds; pause 20 seconds; 3X"
   ]
  },
  {
   "cell_type": "code",
   "execution_count": null,
   "id": "4e7021ed",
   "metadata": {},
   "outputs": [],
   "source": [
    "recorder('_3.1.2_')"
   ]
  },
  {
   "cell_type": "markdown",
   "id": "0dca4c4b",
   "metadata": {},
   "source": [
    "#### 3.1.3 Clapping Episode Condition 3 – 10 seconds clapping; 20 seconds pause; 6X"
   ]
  },
  {
   "cell_type": "code",
   "execution_count": null,
   "id": "5d3f89fc",
   "metadata": {},
   "outputs": [],
   "source": [
    "recorder('_3.1.3_')"
   ]
  },
  {
   "cell_type": "markdown",
   "id": "c73ca61f",
   "metadata": {},
   "source": [
    "### 3.2 Microphones placed on a table at the same height as the bed mattress microphones are placed 4 ft from the center of the pillow"
   ]
  },
  {
   "cell_type": "markdown",
   "id": "b84cfefb",
   "metadata": {},
   "source": [
    "#### 3.2.1 Cough Episode Condition 1 – 10 second continuous coughing; pause 50 seconds; repeat 3X; "
   ]
  },
  {
   "cell_type": "code",
   "execution_count": null,
   "id": "2385840d",
   "metadata": {},
   "outputs": [],
   "source": [
    "recorder('_3.2.1_')"
   ]
  },
  {
   "cell_type": "markdown",
   "id": "0925acd3",
   "metadata": {},
   "source": [
    "#### 3.2.2 Cough Episode Condition 2 – 10 second continuous coughing; pause 20 seconds; clap 10 seconds; pause 20 seconds; 3X"
   ]
  },
  {
   "cell_type": "code",
   "execution_count": null,
   "id": "df9b670c",
   "metadata": {},
   "outputs": [],
   "source": [
    "recorder('_3.2.2_')"
   ]
  },
  {
   "cell_type": "markdown",
   "id": "c71ecbb5",
   "metadata": {},
   "source": [
    "#### 3.2.3 Clapping Episode Condition 3 – 10 seconds clapping; 20 seconds pause; 6X"
   ]
  },
  {
   "cell_type": "code",
   "execution_count": null,
   "id": "a78b5f7f",
   "metadata": {},
   "outputs": [],
   "source": [
    "recorder('_3.2.3_')"
   ]
  },
  {
   "cell_type": "markdown",
   "id": "174a7147",
   "metadata": {},
   "source": [
    "### 3.3 microphones are located 6 inches below the top height of the bed mattress; microphones are placed 2 ft from the center of the pillow"
   ]
  },
  {
   "cell_type": "markdown",
   "id": "8b04cba5",
   "metadata": {},
   "source": [
    "#### 3.3.1 Cough Episode Condition 1 – 10 second continuous coughing; pause 50 seconds; repeat 3X; "
   ]
  },
  {
   "cell_type": "code",
   "execution_count": null,
   "id": "f1accd93",
   "metadata": {},
   "outputs": [],
   "source": [
    "recorder('_3.3.1_')"
   ]
  },
  {
   "cell_type": "markdown",
   "id": "7f22a959",
   "metadata": {},
   "source": [
    "#### 3.3.2 Cough Episode Condition 2 – 10 second continuous coughing; pause 20 seconds; clap 10 seconds; pause 20 seconds; 3X"
   ]
  },
  {
   "cell_type": "code",
   "execution_count": null,
   "id": "e44b41dd",
   "metadata": {},
   "outputs": [],
   "source": [
    "recorder('_3.3.2_')"
   ]
  },
  {
   "cell_type": "markdown",
   "id": "bbaa9cc5",
   "metadata": {},
   "source": [
    "#### 3.3.3 Clapping Episode Condition 3 – 10 seconds clapping; 20 seconds pause; 6X"
   ]
  },
  {
   "cell_type": "code",
   "execution_count": null,
   "id": "c2137593",
   "metadata": {},
   "outputs": [],
   "source": [
    "recorder('_3.3.3_')"
   ]
  },
  {
   "cell_type": "markdown",
   "id": "ca1c4791",
   "metadata": {},
   "source": [
    "### 3.4 Distance two and directional placement two – microphones are located 6 inches below the top height of the bed mattress; microphones are 4 ft from center of the pillow. "
   ]
  },
  {
   "cell_type": "markdown",
   "id": "59fdca40",
   "metadata": {},
   "source": [
    "#### 3.4.1 Cough Episode Condition 1 – 10 second continuous coughing; pause 50 seconds; repeat 3X; "
   ]
  },
  {
   "cell_type": "code",
   "execution_count": null,
   "id": "eb7fbfec",
   "metadata": {},
   "outputs": [],
   "source": [
    "recorder('_3.4.1_')"
   ]
  },
  {
   "cell_type": "markdown",
   "id": "e56f42ee",
   "metadata": {},
   "source": [
    "#### 3.4.2 Cough Episode Condition 2 – 10 second continuous coughing; pause 20 seconds; clap 10 seconds; pause 20 seconds; 3X"
   ]
  },
  {
   "cell_type": "code",
   "execution_count": null,
   "id": "a68d264b",
   "metadata": {},
   "outputs": [],
   "source": [
    "recorder('_3.4.2_')"
   ]
  },
  {
   "cell_type": "markdown",
   "id": "06ce17d3",
   "metadata": {},
   "source": [
    "#### 3.4.3 Clapping Episode Condition 3 – 10 seconds clapping; 20 seconds pause; 6X"
   ]
  },
  {
   "cell_type": "code",
   "execution_count": null,
   "id": "8aedf164",
   "metadata": {},
   "outputs": [],
   "source": [
    "recorder('_3.4.3_')"
   ]
  },
  {
   "cell_type": "code",
   "execution_count": null,
   "id": "06a7167f",
   "metadata": {},
   "outputs": [],
   "source": []
  },
  {
   "cell_type": "markdown",
   "id": "12521eec",
   "metadata": {},
   "source": [
    "# 4. Run this Last.\n",
    "## after all tests are done"
   ]
  },
  {
   "cell_type": "code",
   "execution_count": null,
   "id": "176e4395",
   "metadata": {},
   "outputs": [],
   "source": [
    "import requests\n",
    "#get a token to upload\n",
    "TOK=requests.post(\"https://ftp.basics.ai/api/login\")\n",
    "TOKEN = '?auth='+TOK.text"
   ]
  },
  {
   "cell_type": "code",
   "execution_count": null,
   "id": "3807b9f0",
   "metadata": {},
   "outputs": [],
   "source": [
    "import glob\n",
    "headers = {\n",
    "    \"x-auth\": TOK.text,\n",
    "    \"accept-encoding\": \"gzip, deflate, br\",\n",
    "    \"Content-Type\": \"audio/wav\"\n",
    "}\n",
    "params = {\"uploadType\": \"media\", \"name\": \"test.wav\"}\n",
    "\n",
    "for filepath in glob.iglob('*.wav'):\n",
    "    with open(filepath, 'rb') as datafile:\n",
    "        r = requests.post(url='https://ftp.basics.ai/api/resources/cough/'+filepath+'?override=true', params=params, headers=headers, data=datafile)\n",
    "        print(r.text)"
   ]
  },
  {
   "cell_type": "code",
   "execution_count": null,
   "id": "ab6045a9",
   "metadata": {},
   "outputs": [],
   "source": []
  }
 ],
 "metadata": {
  "kernelspec": {
   "display_name": "Python 3 (ipykernel)",
   "language": "python",
   "name": "python3"
  },
  "language_info": {
   "codemirror_mode": {
    "name": "ipython",
    "version": 3
   },
   "file_extension": ".py",
   "mimetype": "text/x-python",
   "name": "python",
   "nbconvert_exporter": "python",
   "pygments_lexer": "ipython3",
   "version": "3.9.2"
  }
 },
 "nbformat": 4,
 "nbformat_minor": 5
}
