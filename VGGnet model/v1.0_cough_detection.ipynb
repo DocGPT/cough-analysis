{
 "cells": [
  {
   "cell_type": "code",
   "execution_count": 342,
   "metadata": {},
   "outputs": [],
   "source": [
    "import warnings\n",
    "warnings.filterwarnings('ignore')\n",
    "\n",
    "import pandas as pd\n",
    "\n",
    "from tensorflow.keras.applications.vgg16 import VGG16\n",
    "from tensorflow.keras.preprocessing import image\n",
    "from tensorflow.keras.models import Sequential, Model\n",
    "from tensorflow.keras.layers import Dense, Dropout, Flatten, Input\n",
    "\n",
    "import numpy as np\n",
    "import json\n",
    "\n",
    "from tensorflow.keras import metrics, optimizers\n",
    "\n",
    "from tensorflow.keras.callbacks import ModelCheckpoint\n",
    "\n",
    "import itertools\n",
    "import matplotlib.pyplot as plt\n",
    "\n",
    "import os\n",
    "from sklearn.metrics import confusion_matrix, classification_report\n",
    "import tensorflow as tf"
   ]
  },
  {
   "cell_type": "code",
   "execution_count": 343,
   "metadata": {},
   "outputs": [],
   "source": [
    "def plot_confusion_matrix(cm, classes,\n",
    "                          normalize=False,\n",
    "                          title='Confusion matrix',\n",
    "                          cmap=plt.cm.Blues):\n",
    "\n",
    "    if normalize:\n",
    "        cm = cm.astype('float') / cm.sum(axis=1)[:, np.newaxis]\n",
    "        print(\"Normalized confusion matrix\")\n",
    "    else:\n",
    "        print('Confusion matrix, without normalization')\n",
    "\n",
    "#     print(cm)\n",
    "    plt.figure(figsize=(6,5))\n",
    "    plt.imshow(cm, interpolation='nearest', cmap=cmap)\n",
    "    # plt.title(title)\n",
    "    plt.colorbar()\n",
    "    tick_marks = np.arange(len(classes))\n",
    "    plt.xticks(tick_marks, classes)\n",
    "    plt.yticks(tick_marks, classes)\n",
    "\n",
    "    fmt = '.2f' if normalize else 'd'\n",
    "    thresh = cm.max() / 2.\n",
    "    for i, j in itertools.product(range(cm.shape[0]), range(cm.shape[1])):\n",
    "        plt.text(j, i, format(cm[i, j], fmt),\n",
    "                 horizontalalignment=\"center\",\n",
    "                 fontsize=20,\n",
    "                 color=\"white\" if cm[i, j] > thresh else \"black\")\n",
    "\n",
    "    plt.tight_layout()\n",
    "    plt.ylabel('True label')\n",
    "    plt.xlabel('Predicted label')\n",
    "    figname = title + '.png'\n",
    "    \n",
    "    plt.savefig(figname, dpi = 600)"
   ]
  },
  {
   "cell_type": "code",
   "execution_count": 344,
   "metadata": {},
   "outputs": [],
   "source": [
    "def top_5_accuracy(y_true, y_pred):\n",
    "    return metrics.top_k_categorical_accuracy(y_true, y_pred, k=5)\n",
    "\n",
    "\n",
    "\n",
    "def get_top_k_predictions(preds, label_map, k=5, print_flag=False):\n",
    "    sorted_array = np.argsort(preds)[::-1]\n",
    "    top_k = sorted_array[:k]\n",
    "    label_map_flip = dict((v,k) for k,v in label_map.items())\n",
    "    \n",
    "    y_pred = []\n",
    "    for label_index in top_k:\n",
    "        if print_flag:\n",
    "            print(\"{} ({})\".format(label_map_flip[label_index], preds[label_index]))\n",
    "        y_pred.append(label_map_flip[label_index])\n",
    "        \n",
    "    return y_pred"
   ]
  },
  {
   "cell_type": "code",
   "execution_count": 345,
   "metadata": {},
   "outputs": [],
   "source": [
    "def save2saved2tflite(model, output_model_path):\n",
    "    saved_model_dir = '' #means current directory\n",
    "    tf.saved_model.save(model, saved_model_dir) #saves to the current directory\n",
    "    converter = tf.lite.TFLiteConverter.from_saved_model(saved_model_dir) \n",
    "    tflite_model = converter.convert() #converts our model into a .tflite model which flutter uses for ondevice machine learning\n",
    "    with open(output_model_path, 'wb') as f: #to write the converted model into a file, written as binary so add 'wb' instead of 'w'\n",
    "       f.write(tflite_model)\n",
    "\n",
    "def save4mkeras2tflite(model, output_model_path):\n",
    "    converter = tf.lite.TFLiteConverter.from_keras_model(q_aware_model)\n",
    "    converter.optimizations = [tf.lite.Optimize.DEFAULT]\n",
    "    quantized_tflite_model = converter.convert()\n",
    "    converter = tf.lite.TFLiteConverter.from_keras_model(model)\n",
    "    baseline_tflite_model = converter.convert()"
   ]
  },
  {
   "cell_type": "code",
   "execution_count": 346,
   "metadata": {},
   "outputs": [],
   "source": [
    "# steps_per_epoch = len(X_train)//batch_size\n",
    "# validation_steps = len(X_test)//batch_size # if you have validation data \n",
    "batch_size = 16 #40\n",
    "epochs = 10 #25   # 200\n",
    "\n",
    "# dimensions of our images.\n",
    "img_width, img_height = 224, 224\n",
    "\n",
    "input_tensor = Input(shape=(224,224,3))\n",
    "\n",
    "nb_training_samples =  64  # 1600 cough/dog/clap - 46*3.\n",
    "nb_validation_samples =  16 # 400 # Set parameter values 3(labels)*8(testing samples per label)\n",
    "\n",
    "n_targets = 2"
   ]
  },
  {
   "cell_type": "code",
   "execution_count": 347,
   "metadata": {},
   "outputs": [
    {
     "name": "stdout",
     "output_type": "stream",
     "text": [
      "Found 64 images belonging to 2 classes.\n",
      "Found 16 images belonging to 2 classes.\n"
     ]
    }
   ],
   "source": [
    "training_data_dir = 'wavelets/v1-dataset/training'\n",
    "\n",
    "training_datagen = image.ImageDataGenerator(\n",
    "    rescale=1./255)\n",
    "\n",
    "training_generator = training_datagen.flow_from_directory(\n",
    "    training_data_dir,\n",
    "    target_size=(img_height, img_width),\n",
    "    batch_size=batch_size)\n",
    "\n",
    "# validation generator configuration\n",
    "validation_data_dir = 'wavelets/v1-dataset/testing'\n",
    "\n",
    "validation_datagen = image.ImageDataGenerator(\n",
    "    rescale=1./255)\n",
    "\n",
    "validation_generator = validation_datagen.flow_from_directory(\n",
    "    validation_data_dir,\n",
    "    target_size=(img_height, img_width),\n",
    "    batch_size=batch_size)"
   ]
  },
  {
   "cell_type": "code",
   "execution_count": 348,
   "metadata": {},
   "outputs": [
    {
     "name": "stdout",
     "output_type": "stream",
     "text": [
      "Model loaded.\n",
      "Model: \"vgg16\"\n",
      "_________________________________________________________________\n",
      "Layer (type)                 Output Shape              Param #   \n",
      "=================================================================\n",
      "input_26 (InputLayer)        [(None, 224, 224, 3)]     0         \n",
      "_________________________________________________________________\n",
      "block1_conv1 (Conv2D)        (None, 224, 224, 64)      1792      \n",
      "_________________________________________________________________\n",
      "block1_conv2 (Conv2D)        (None, 224, 224, 64)      36928     \n",
      "_________________________________________________________________\n",
      "block1_pool (MaxPooling2D)   (None, 112, 112, 64)      0         \n",
      "_________________________________________________________________\n",
      "block2_conv1 (Conv2D)        (None, 112, 112, 128)     73856     \n",
      "_________________________________________________________________\n",
      "block2_conv2 (Conv2D)        (None, 112, 112, 128)     147584    \n",
      "_________________________________________________________________\n",
      "block2_pool (MaxPooling2D)   (None, 56, 56, 128)       0         \n",
      "_________________________________________________________________\n",
      "block3_conv1 (Conv2D)        (None, 56, 56, 256)       295168    \n",
      "_________________________________________________________________\n",
      "block3_conv2 (Conv2D)        (None, 56, 56, 256)       590080    \n",
      "_________________________________________________________________\n",
      "block3_conv3 (Conv2D)        (None, 56, 56, 256)       590080    \n",
      "_________________________________________________________________\n",
      "block3_pool (MaxPooling2D)   (None, 28, 28, 256)       0         \n",
      "_________________________________________________________________\n",
      "block4_conv1 (Conv2D)        (None, 28, 28, 512)       1180160   \n",
      "_________________________________________________________________\n",
      "block4_conv2 (Conv2D)        (None, 28, 28, 512)       2359808   \n",
      "_________________________________________________________________\n",
      "block4_conv3 (Conv2D)        (None, 28, 28, 512)       2359808   \n",
      "_________________________________________________________________\n",
      "block4_pool (MaxPooling2D)   (None, 14, 14, 512)       0         \n",
      "_________________________________________________________________\n",
      "block5_conv1 (Conv2D)        (None, 14, 14, 512)       2359808   \n",
      "_________________________________________________________________\n",
      "block5_conv2 (Conv2D)        (None, 14, 14, 512)       2359808   \n",
      "_________________________________________________________________\n",
      "block5_conv3 (Conv2D)        (None, 14, 14, 512)       2359808   \n",
      "_________________________________________________________________\n",
      "block5_pool (MaxPooling2D)   (None, 7, 7, 512)         0         \n",
      "=================================================================\n",
      "Total params: 14,714,688\n",
      "Trainable params: 14,714,688\n",
      "Non-trainable params: 0\n",
      "_________________________________________________________________\n"
     ]
    }
   ],
   "source": [
    "base_model = VGG16(weights='imagenet', include_top=False, input_tensor=input_tensor)\n",
    "print('Model loaded.')\n",
    "base_model.summary()\n"
   ]
  },
  {
   "cell_type": "code",
   "execution_count": 349,
   "metadata": {},
   "outputs": [
    {
     "name": "stdout",
     "output_type": "stream",
     "text": [
      "Model: \"sequential_19\"\n",
      "_________________________________________________________________\n",
      "Layer (type)                 Output Shape              Param #   \n",
      "=================================================================\n",
      "flatten_19 (Flatten)         (None, 25088)             0         \n",
      "_________________________________________________________________\n",
      "dense_38 (Dense)             (None, 256)               6422784   \n",
      "_________________________________________________________________\n",
      "dropout_19 (Dropout)         (None, 256)               0         \n",
      "_________________________________________________________________\n",
      "dense_39 (Dense)             (None, 2)                 514       \n",
      "=================================================================\n",
      "Total params: 6,423,298\n",
      "Trainable params: 6,423,298\n",
      "Non-trainable params: 0\n",
      "_________________________________________________________________\n"
     ]
    }
   ],
   "source": [
    "top_model = Sequential()\n",
    "top_model.add(Flatten(input_shape=base_model.output_shape[1:]))\n",
    "top_model.add(Dense(256, activation='relu'))\n",
    "top_model.add(Dropout(0.5))\n",
    "top_model.add(Dense(n_targets, activation='softmax'))\n",
    "\n",
    "top_model.summary()"
   ]
  },
  {
   "cell_type": "code",
   "execution_count": 350,
   "metadata": {},
   "outputs": [
    {
     "name": "stdout",
     "output_type": "stream",
     "text": [
      "Model: \"model_19\"\n",
      "_________________________________________________________________\n",
      "Layer (type)                 Output Shape              Param #   \n",
      "=================================================================\n",
      "input_26 (InputLayer)        [(None, 224, 224, 3)]     0         \n",
      "_________________________________________________________________\n",
      "block1_conv1 (Conv2D)        (None, 224, 224, 64)      1792      \n",
      "_________________________________________________________________\n",
      "block1_conv2 (Conv2D)        (None, 224, 224, 64)      36928     \n",
      "_________________________________________________________________\n",
      "block1_pool (MaxPooling2D)   (None, 112, 112, 64)      0         \n",
      "_________________________________________________________________\n",
      "block2_conv1 (Conv2D)        (None, 112, 112, 128)     73856     \n",
      "_________________________________________________________________\n",
      "block2_conv2 (Conv2D)        (None, 112, 112, 128)     147584    \n",
      "_________________________________________________________________\n",
      "block2_pool (MaxPooling2D)   (None, 56, 56, 128)       0         \n",
      "_________________________________________________________________\n",
      "block3_conv1 (Conv2D)        (None, 56, 56, 256)       295168    \n",
      "_________________________________________________________________\n",
      "block3_conv2 (Conv2D)        (None, 56, 56, 256)       590080    \n",
      "_________________________________________________________________\n",
      "block3_conv3 (Conv2D)        (None, 56, 56, 256)       590080    \n",
      "_________________________________________________________________\n",
      "block3_pool (MaxPooling2D)   (None, 28, 28, 256)       0         \n",
      "_________________________________________________________________\n",
      "block4_conv1 (Conv2D)        (None, 28, 28, 512)       1180160   \n",
      "_________________________________________________________________\n",
      "block4_conv2 (Conv2D)        (None, 28, 28, 512)       2359808   \n",
      "_________________________________________________________________\n",
      "block4_conv3 (Conv2D)        (None, 28, 28, 512)       2359808   \n",
      "_________________________________________________________________\n",
      "block4_pool (MaxPooling2D)   (None, 14, 14, 512)       0         \n",
      "_________________________________________________________________\n",
      "block5_conv1 (Conv2D)        (None, 14, 14, 512)       2359808   \n",
      "_________________________________________________________________\n",
      "block5_conv2 (Conv2D)        (None, 14, 14, 512)       2359808   \n",
      "_________________________________________________________________\n",
      "block5_conv3 (Conv2D)        (None, 14, 14, 512)       2359808   \n",
      "_________________________________________________________________\n",
      "block5_pool (MaxPooling2D)   (None, 7, 7, 512)         0         \n",
      "_________________________________________________________________\n",
      "sequential_19 (Sequential)   (None, 2)                 6423298   \n",
      "=================================================================\n",
      "Total params: 21,137,986\n",
      "Trainable params: 21,137,986\n",
      "Non-trainable params: 0\n",
      "_________________________________________________________________\n"
     ]
    }
   ],
   "source": [
    "model = Model(inputs=base_model.input, outputs=top_model(base_model.output))\n",
    "model.summary()\n"
   ]
  },
  {
   "cell_type": "code",
   "execution_count": 351,
   "metadata": {},
   "outputs": [],
   "source": [
    "num_layers_to_freeze = 15\n"
   ]
  },
  {
   "cell_type": "code",
   "execution_count": 352,
   "metadata": {},
   "outputs": [],
   "source": [
    "for layer in model.layers[:num_layers_to_freeze]:\n",
    "    layer.trainable = False\n",
    "\n",
    "\n",
    "model.compile(optimizer=optimizers.SGD(lr=1e-4, momentum=0.9), \n",
    "                      loss='categorical_crossentropy', \n",
    "                      metrics=['accuracy', top_5_accuracy])\n",
    "\n",
    "\n",
    "# serialize model to JSON\n",
    "model_json = model.to_json()\n",
    "model_filename = \"cough_model_artifacts/vgg16_model_{}_frozen_layers.json\".format(num_layers_to_freeze)\n",
    "\n",
    "with open(model_filename, \"w\") as json_file:\n",
    "    json_file.write(model_json)\n",
    "    "
   ]
  },
  {
   "cell_type": "code",
   "execution_count": 353,
   "metadata": {},
   "outputs": [
    {
     "name": "stdout",
     "output_type": "stream",
     "text": [
      "Epoch 1/10\n",
      "4/4 [==============================] - 29s 7s/step - loss: 0.8999 - accuracy: 0.4844 - top_5_accuracy: 1.0000 - val_loss: 0.6645 - val_accuracy: 0.5625 - val_top_5_accuracy: 1.0000\n",
      "\n",
      "Epoch 00001: val_accuracy improved from -inf to 0.56250, saving model to cough_model_artifacts/esc50_vgg16_stft_weights_train_last_2_base_layers_best.hdf5\n",
      "Epoch 2/10\n",
      "4/4 [==============================] - 28s 7s/step - loss: 0.7717 - accuracy: 0.5469 - top_5_accuracy: 1.0000 - val_loss: 0.6279 - val_accuracy: 0.7500 - val_top_5_accuracy: 1.0000\n",
      "\n",
      "Epoch 00002: val_accuracy improved from 0.56250 to 0.75000, saving model to cough_model_artifacts/esc50_vgg16_stft_weights_train_last_2_base_layers_best.hdf5\n",
      "Epoch 3/10\n",
      "4/4 [==============================] - 27s 7s/step - loss: 0.8359 - accuracy: 0.4688 - top_5_accuracy: 1.0000 - val_loss: 0.6925 - val_accuracy: 0.5000 - val_top_5_accuracy: 1.0000\n",
      "\n",
      "Epoch 00003: val_accuracy did not improve from 0.75000\n",
      "Epoch 4/10\n",
      "4/4 [==============================] - 27s 7s/step - loss: 0.6579 - accuracy: 0.6406 - top_5_accuracy: 1.0000 - val_loss: 0.5704 - val_accuracy: 0.7500 - val_top_5_accuracy: 1.0000\n",
      "\n",
      "Epoch 00004: val_accuracy did not improve from 0.75000\n",
      "Epoch 5/10\n",
      "4/4 [==============================] - 27s 7s/step - loss: 0.6473 - accuracy: 0.6875 - top_5_accuracy: 1.0000 - val_loss: 0.5369 - val_accuracy: 0.7500 - val_top_5_accuracy: 1.0000\n",
      "\n",
      "Epoch 00005: val_accuracy did not improve from 0.75000\n",
      "Epoch 6/10\n",
      "4/4 [==============================] - 28s 7s/step - loss: 0.5247 - accuracy: 0.7812 - top_5_accuracy: 1.0000 - val_loss: 0.5221 - val_accuracy: 0.8125 - val_top_5_accuracy: 1.0000\n",
      "\n",
      "Epoch 00006: val_accuracy improved from 0.75000 to 0.81250, saving model to cough_model_artifacts/esc50_vgg16_stft_weights_train_last_2_base_layers_best.hdf5\n",
      "Epoch 7/10\n",
      "4/4 [==============================] - 28s 7s/step - loss: 0.5127 - accuracy: 0.7812 - top_5_accuracy: 1.0000 - val_loss: 0.5102 - val_accuracy: 0.8125 - val_top_5_accuracy: 1.0000\n",
      "\n",
      "Epoch 00007: val_accuracy did not improve from 0.81250\n",
      "Epoch 8/10\n",
      "4/4 [==============================] - 28s 7s/step - loss: 0.5265 - accuracy: 0.8125 - top_5_accuracy: 1.0000 - val_loss: 0.4824 - val_accuracy: 0.7500 - val_top_5_accuracy: 1.0000\n",
      "\n",
      "Epoch 00008: val_accuracy did not improve from 0.81250\n",
      "Epoch 9/10\n",
      "4/4 [==============================] - 29s 7s/step - loss: 0.5071 - accuracy: 0.7812 - top_5_accuracy: 1.0000 - val_loss: 0.4747 - val_accuracy: 0.7500 - val_top_5_accuracy: 1.0000\n",
      "\n",
      "Epoch 00009: val_accuracy did not improve from 0.81250\n",
      "Epoch 10/10\n",
      "4/4 [==============================] - 28s 7s/step - loss: 0.4735 - accuracy: 0.8125 - top_5_accuracy: 1.0000 - val_loss: 0.4739 - val_accuracy: 0.8125 - val_top_5_accuracy: 1.0000\n",
      "\n",
      "Epoch 00010: val_accuracy did not improve from 0.81250\n"
     ]
    },
    {
     "data": {
      "text/plain": [
       "<keras.callbacks.History at 0x1343c6d60>"
      ]
     },
     "execution_count": 353,
     "metadata": {},
     "output_type": "execute_result"
    }
   ],
   "source": [
    "filepath = \"cough_model_artifacts/esc50_vgg16_stft_weights_train_last_2_base_layers_best.hdf5\"\n",
    "metric = 'val_accuracy'\n",
    "\n",
    "best_model_checkpoint = ModelCheckpoint(filepath, monitor=metric, verbose=5, save_best_only=True, mode='max')\n",
    "callbacks_list = [best_model_checkpoint]\n",
    "\n",
    "\n",
    "model.fit_generator(\n",
    "    training_generator,\n",
    "    steps_per_epoch=nb_training_samples/batch_size,\n",
    "    epochs=epochs,\n",
    "    validation_data=validation_generator,\n",
    "    validation_steps=nb_validation_samples/batch_size,\n",
    "    callbacks=callbacks_list)\n"
   ]
  },
  {
   "cell_type": "code",
   "execution_count": 354,
   "metadata": {},
   "outputs": [],
   "source": [
    "label_map = (training_generator.class_indices)"
   ]
  },
  {
   "cell_type": "code",
   "execution_count": 355,
   "metadata": {},
   "outputs": [],
   "source": [
    "json = json.dumps(label_map)\n",
    "f = open(\"cough_model_artifacts/cough_label_map.json\",\"w\")\n",
    "f.write(json)\n",
    "f.close()"
   ]
  },
  {
   "cell_type": "code",
   "execution_count": 356,
   "metadata": {},
   "outputs": [
    {
     "name": "stdout",
     "output_type": "stream",
     "text": [
      "INFO:tensorflow:Assets written to: cough_model_artifacts/cough_model/assets\n"
     ]
    }
   ],
   "source": [
    "model.save(\"cough_model_artifacts/cough_model\", save_format=\"tf\")\n"
   ]
  },
  {
   "cell_type": "code",
   "execution_count": 357,
   "metadata": {},
   "outputs": [],
   "source": [
    "testing_dir = './wavelets/v1-dataset/testing/'\n",
    "\n",
    "y_true = []\n",
    "y_pred = []\n",
    "\n",
    "\n",
    "for label in label_map.keys():\n",
    "    \n",
    "    file_list = os.listdir(testing_dir + label)\n",
    "    \n",
    "    for file_name in file_list:\n",
    "        img_path = testing_dir + label + '/' + file_name\n",
    "        \n",
    "        img = image.load_img(img_path, target_size=(224, 224))\n",
    "        \n",
    "        x = image.img_to_array(img)\n",
    "        x = np.expand_dims(x, axis=0)* 1./255\n",
    "        \n",
    "        preds = model.predict(x)[0]\n",
    "        \n",
    "        y_true.append(label)\n",
    "        y_pred.append(get_top_k_predictions(preds, label_map, k=1)[0])\n"
   ]
  },
  {
   "cell_type": "code",
   "execution_count": 358,
   "metadata": {},
   "outputs": [
    {
     "name": "stdout",
     "output_type": "stream",
     "text": [
      "Confusion matrix, without normalization\n",
      "Normalized confusion matrix\n"
     ]
    },
    {
     "data": {
      "image/png": "[encoded data removed]",
      "text/plain": [
       "<Figure size 432x360 with 2 Axes>"
      ]
     },
     "metadata": {
      "needs_background": "light"
     },
     "output_type": "display_data"
    },
    {
     "data": {
      "image/png": "[encoded data removed]",
      "text/plain": [
       "<Figure size 432x360 with 2 Axes>"
      ]
     },
     "metadata": {
      "needs_background": "light"
     },
     "output_type": "display_data"
    }
   ],
   "source": [
    "cm = confusion_matrix(y_true, y_pred)\n",
    "\n",
    "plot_confusion_matrix(cm, sorted(label_map.keys()), normalize=False, title = 'cough_model_artifacts/wavelet_cough_vgg16')\n",
    "\n",
    "plot_confusion_matrix(cm, sorted(label_map.keys()), normalize=True, title = 'cough_model_artifacts/wavelet_cough_normalized')\n"
   ]
  },
  {
   "cell_type": "code",
   "execution_count": 359,
   "metadata": {},
   "outputs": [
    {
     "name": "stdout",
     "output_type": "stream",
     "text": [
      "              precision    recall  f1-score   support\n",
      "\n",
      "       cough       0.86      0.75      0.80         8\n",
      "         dog       0.78      0.88      0.82         8\n",
      "\n",
      "    accuracy                           0.81        16\n",
      "   macro avg       0.82      0.81      0.81        16\n",
      "weighted avg       0.82      0.81      0.81        16\n",
      "\n",
      "xxxxxxx Done Testing xxxxxxxx\n"
     ]
    }
   ],
   "source": [
    "print(classification_report(y_true, y_pred, target_names = sorted(label_map.keys()) ))\n",
    "\n",
    "\n",
    "print('xxxxxxx Done Testing xxxxxxxx')"
   ]
  },
  {
   "cell_type": "code",
   "execution_count": 360,
   "metadata": {},
   "outputs": [
    {
     "name": "stdout",
     "output_type": "stream",
     "text": [
      "file: rob_1.2.1.png\n",
      "pedicted classes: \n",
      "[0.27938128 0.7206187 ]\n",
      "{'cough': 0, 'dog': 1}\n",
      "file: rob_1.2.3.png\n",
      "pedicted classes: \n",
      "[0.15272789 0.8472721 ]\n",
      "{'cough': 0, 'dog': 1}\n",
      "file: rob_1.2.2.png\n",
      "pedicted classes: \n",
      "[0.18869562 0.81130433]\n",
      "{'cough': 0, 'dog': 1}\n",
      "file: rob_1.1.1.png\n",
      "pedicted classes: \n",
      "[0.2637173 0.7362827]\n",
      "{'cough': 0, 'dog': 1}\n",
      "file: rob_1.3.3.png\n",
      "pedicted classes: \n",
      "[0.12512971 0.8748703 ]\n",
      "{'cough': 0, 'dog': 1}\n",
      "file: rob_1.3.2.png\n",
      "pedicted classes: \n",
      "[0.19974864 0.80025136]\n",
      "{'cough': 0, 'dog': 1}\n",
      "file: rob_1.1.2.png\n",
      "pedicted classes: \n",
      "[0.17754944 0.8224506 ]\n",
      "{'cough': 0, 'dog': 1}\n",
      "file: rob_1.3.1.png\n",
      "pedicted classes: \n",
      "[0.26962277 0.7303772 ]\n",
      "{'cough': 0, 'dog': 1}\n",
      "file: rob_1.1.3.png\n",
      "pedicted classes: \n",
      "[0.16154641 0.83845365]\n",
      "{'cough': 0, 'dog': 1}\n"
     ]
    },
    {
     "data": {
      "image/png": "[encoded data removed]",
      "text/plain": [
       "<Figure size 864x576 with 1 Axes>"
      ]
     },
     "metadata": {
      "needs_background": "light"
     },
     "output_type": "display_data"
    },
    {
     "data": {
      "image/png": "[encoded data removed]",
      "text/plain": [
       "<Figure size 864x576 with 1 Axes>"
      ]
     },
     "metadata": {
      "needs_background": "light"
     },
     "output_type": "display_data"
    },
    {
     "data": {
      "image/png": "[encoded data removed]",
      "text/plain": [
       "<Figure size 864x576 with 1 Axes>"
      ]
     },
     "metadata": {
      "needs_background": "light"
     },
     "output_type": "display_data"
    },
    {
     "data": {
      "image/png": "[encoded data removed]",
      "text/plain": [
       "<Figure size 864x576 with 1 Axes>"
      ]
     },
     "metadata": {
      "needs_background": "light"
     },
     "output_type": "display_data"
    },
    {
     "data": {
      "image/png": "[encoded data removed]",
      "text/plain": [
       "<Figure size 864x576 with 1 Axes>"
      ]
     },
     "metadata": {
      "needs_background": "light"
     },
     "output_type": "display_data"
    },
    {
     "data": {
      "image/png": "[encoded data removed]",
      "text/plain": [
       "<Figure size 864x576 with 1 Axes>"
      ]
     },
     "metadata": {
      "needs_background": "light"
     },
     "output_type": "display_data"
    },
    {
     "data": {
      "image/png": "[encoded data removed]",
      "text/plain": [
       "<Figure size 864x576 with 1 Axes>"
      ]
     },
     "metadata": {
      "needs_background": "light"
     },
     "output_type": "display_data"
    },
    {
     "data": {
      "image/png": "[encoded data removed]",
      "text/plain": [
       "<Figure size 864x576 with 1 Axes>"
      ]
     },
     "metadata": {
      "needs_background": "light"
     },
     "output_type": "display_data"
    },
    {
     "data": {
      "image/png": "[encoded data removed]",
      "text/plain": [
       "<Figure size 864x576 with 1 Axes>"
      ]
     },
     "metadata": {
      "needs_background": "light"
     },
     "output_type": "display_data"
    }
   ],
   "source": [
    "testing_dir = './wavelets/v1-dataset/samples'\n",
    "    \n",
    "file_list = os.listdir(testing_dir)\n",
    "\n",
    "for file_name in file_list:\n",
    "    if(file_name.endswith('.png')):\n",
    "        y_true = []\n",
    "        y_pred = []\n",
    "        img_path = testing_dir + '/' + file_name\n",
    "\n",
    "        img = image.load_img(img_path, target_size=(224, 224))\n",
    "        \n",
    "        x = image.img_to_array(img)\n",
    "        x = np.expand_dims(x, axis=0)* 1./255\n",
    "        \n",
    "        preds = model.predict(x)[0]\n",
    "        print(\"file: \" + file_name)\n",
    "        print(\"pedicted classes: \")\n",
    "        print(preds)\n",
    "        \n",
    "        # if(round(preds[0], 2) > 0.08):\n",
    "        #     preds[0] = 1\n",
    "        # if(round(preds[1], 2) > 0.83):\n",
    "        #     preds[1] = 1\n",
    "        # if(round(preds[2], 2) > 0.04):\n",
    "        #     preds[2] = 1\n",
    "\n",
    "        print(label_map)\n",
    "\n",
    "        # Plot the figure.\n",
    "        freq_series = pd.Series(preds)\n",
    "\n",
    "        plt.figure(figsize=(12, 8))\n",
    "        ax = freq_series.plot(kind=\"bar\")\n",
    "        ax.set_title(file_name)\n",
    "        ax.set_xticklabels(label_map)\n",
    "\n",
    "        rects = ax.patches\n",
    "\n",
    "        for rect, label in zip(rects, label_map):\n",
    "            height = rect.get_height()\n",
    "\n",
    "        plt.savefig(img_path+\"_plotted.png\")\n"
   ]
  },
  {
   "cell_type": "code",
   "execution_count": 361,
   "metadata": {},
   "outputs": [
    {
     "name": "stdout",
     "output_type": "stream",
     "text": [
      "xxxxxxx Done xxxxxxxx\n"
     ]
    }
   ],
   "source": [
    "print('xxxxxxx Done xxxxxxxx')"
   ]
  }
 ],
 "metadata": {
  "interpreter": {
   "hash": "aee8b7b246df8f9039afb4144a1f6fd8d2ca17a180786b69acc140d282b71a49"
  },
  "kernelspec": {
   "display_name": "Python 3.9.9 64-bit",
   "language": "python",
   "name": "python3"
  },
  "language_info": {
   "codemirror_mode": {
    "name": "ipython",
    "version": 3
   },
   "file_extension": ".py",
   "mimetype": "text/x-python",
   "name": "python",
   "nbconvert_exporter": "python",
   "pygments_lexer": "ipython3",
   "version": "3.9.9"
  },
  "orig_nbformat": 4
 },
 "nbformat": 4,
 "nbformat_minor": 2
}
