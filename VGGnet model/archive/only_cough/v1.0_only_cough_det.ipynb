{
 "cells": [
  {
   "cell_type": "code",
   "execution_count": 50,
   "metadata": {},
   "outputs": [],
   "source": [
    "import warnings\n",
    "warnings.filterwarnings('ignore')\n",
    "\n",
    "import pandas as pd\n",
    "\n",
    "from tensorflow.keras.applications.vgg16 import VGG16\n",
    "from tensorflow.keras.preprocessing import image\n",
    "from tensorflow.keras.models import Sequential, Model\n",
    "from tensorflow.keras.layers import Dense, Dropout, Flatten, Input\n",
    "\n",
    "import numpy as np\n",
    "import json\n",
    "\n",
    "from tensorflow.keras import metrics, optimizers\n",
    "\n",
    "from tensorflow.keras.callbacks import ModelCheckpoint\n",
    "\n",
    "import itertools\n",
    "import matplotlib.pyplot as plt\n",
    "\n",
    "import os\n",
    "from sklearn.metrics import confusion_matrix, classification_report\n",
    "import tensorflow as tf"
   ]
  },
  {
   "cell_type": "code",
   "execution_count": 52,
   "metadata": {},
   "outputs": [],
   "source": [
    "def plot_confusion_matrix(cm, classes,\n",
    "                          normalize=False,\n",
    "                          title='Confusion matrix',\n",
    "                          cmap=plt.cm.Blues):\n",
    "\n",
    "    if normalize:\n",
    "        cm = cm.astype('float') / cm.sum(axis=1)[:, np.newaxis]\n",
    "        print(\"Normalized confusion matrix\")\n",
    "    else:\n",
    "        print('Confusion matrix, without normalization')\n",
    "\n",
    "#     print(cm)\n",
    "    plt.figure(figsize=(6,5))\n",
    "    plt.imshow(cm, interpolation='nearest', cmap=cmap)\n",
    "    # plt.title(title)\n",
    "    plt.colorbar()\n",
    "    tick_marks = np.arange(len(classes))\n",
    "    plt.xticks(tick_marks, classes)\n",
    "    plt.yticks(tick_marks, classes)\n",
    "\n",
    "    fmt = '.2f' if normalize else 'd'\n",
    "    thresh = cm.max() / 2.\n",
    "    for i, j in itertools.product(range(cm.shape[0]), range(cm.shape[1])):\n",
    "        plt.text(j, i, format(cm[i, j], fmt),\n",
    "                 horizontalalignment=\"center\",\n",
    "                 fontsize=20,\n",
    "                 color=\"white\" if cm[i, j] > thresh else \"black\")\n",
    "\n",
    "    plt.tight_layout()\n",
    "    plt.ylabel('True label')\n",
    "    plt.xlabel('Predicted label')\n",
    "    figname = title + '.png'\n",
    "    \n",
    "    plt.savefig(figname, dpi = 600)"
   ]
  },
  {
   "cell_type": "code",
   "execution_count": 54,
   "metadata": {},
   "outputs": [],
   "source": [
    "def top_5_accuracy(y_true, y_pred):\n",
    "    return metrics.top_k_categorical_accuracy(y_true, y_pred, k=5)\n",
    "\n",
    "\n",
    "\n",
    "def get_top_k_predictions(preds, label_map, k=5, print_flag=False):\n",
    "    sorted_array = np.argsort(preds)[::-1]\n",
    "    top_k = sorted_array[:k]\n",
    "    label_map_flip = dict((v,k) for k,v in label_map.items())\n",
    "    \n",
    "    y_pred = []\n",
    "    for label_index in top_k:\n",
    "        if print_flag:\n",
    "            print(\"{} ({})\".format(label_map_flip[label_index], preds[label_index]))\n",
    "        y_pred.append(label_map_flip[label_index])\n",
    "        \n",
    "    return y_pred"
   ]
  },
  {
   "cell_type": "code",
   "execution_count": 55,
   "metadata": {},
   "outputs": [],
   "source": [
    "def save2saved2tflite(model, output_model_path):\n",
    "    saved_model_dir = '' #means current directory\n",
    "    tf.saved_model.save(model, saved_model_dir) #saves to the current directory\n",
    "    converter = tf.lite.TFLiteConverter.from_saved_model(saved_model_dir) \n",
    "    tflite_model = converter.convert() #converts our model into a .tflite model which flutter uses for ondevice machine learning\n",
    "    with open(output_model_path, 'wb') as f: #to write the converted model into a file, written as binary so add 'wb' instead of 'w'\n",
    "       f.write(tflite_model)\n",
    "\n",
    "def save4mkeras2tflite(model, output_model_path):\n",
    "    converter = tf.lite.TFLiteConverter.from_keras_model(q_aware_model)\n",
    "    converter.optimizations = [tf.lite.Optimize.DEFAULT]\n",
    "    quantized_tflite_model = converter.convert()\n",
    "    converter = tf.lite.TFLiteConverter.from_keras_model(model)\n",
    "    baseline_tflite_model = converter.convert()"
   ]
  },
  {
   "cell_type": "code",
   "execution_count": 58,
   "metadata": {},
   "outputs": [],
   "source": [
    "# steps_per_epoch = len(X_train)//batch_size\n",
    "# validation_steps = len(X_test)//batch_size # if you have validation data \n",
    "batch_size = 20 #40\n",
    "epochs = 20 #25   # 200\n",
    "\n",
    "# dimensions of our images.\n",
    "img_width, img_height = 224, 224\n",
    "\n",
    "input_tensor = Input(shape=(224,224,3))\n",
    "\n",
    "nb_training_samples =  132  # 1600 cough/dog 85+85 + clap 44.\n",
    "nb_validation_samples =  24 # 400 # Set parameter values 3(labels)*8(testing samples per label)\n",
    "\n",
    "n_targets = 3"
   ]
  },
  {
   "cell_type": "code",
   "execution_count": 59,
   "metadata": {},
   "outputs": [
    {
     "name": "stdout",
     "output_type": "stream",
     "text": [
      "Found 132 images belonging to 3 classes.\n",
      "Found 24 images belonging to 3 classes.\n"
     ]
    }
   ],
   "source": [
    "training_data_dir = 'wavelets/wavelet_training'\n",
    "\n",
    "training_datagen = image.ImageDataGenerator(\n",
    "    rescale=1./255)\n",
    "\n",
    "training_generator = training_datagen.flow_from_directory(\n",
    "    training_data_dir,\n",
    "    target_size=(img_height, img_width),\n",
    "    batch_size=batch_size)\n",
    "\n",
    "# validation generator configuration\n",
    "validation_data_dir = 'wavelets/wavelet_selected/testing/'\n",
    "\n",
    "validation_datagen = image.ImageDataGenerator(\n",
    "    rescale=1./255)\n",
    "\n",
    "validation_generator = validation_datagen.flow_from_directory(\n",
    "    validation_data_dir,\n",
    "    target_size=(img_height, img_width),\n",
    "    batch_size=batch_size)"
   ]
  },
  {
   "cell_type": "code",
   "execution_count": 61,
   "metadata": {},
   "outputs": [
    {
     "name": "stdout",
     "output_type": "stream",
     "text": [
      "Model loaded.\n",
      "Model: \"vgg16\"\n",
      "_________________________________________________________________\n",
      "Layer (type)                 Output Shape              Param #   \n",
      "=================================================================\n",
      "input_6 (InputLayer)         [(None, 224, 224, 3)]     0         \n",
      "_________________________________________________________________\n",
      "block1_conv1 (Conv2D)        (None, 224, 224, 64)      1792      \n",
      "_________________________________________________________________\n",
      "block1_conv2 (Conv2D)        (None, 224, 224, 64)      36928     \n",
      "_________________________________________________________________\n",
      "block1_pool (MaxPooling2D)   (None, 112, 112, 64)      0         \n",
      "_________________________________________________________________\n",
      "block2_conv1 (Conv2D)        (None, 112, 112, 128)     73856     \n",
      "_________________________________________________________________\n",
      "block2_conv2 (Conv2D)        (None, 112, 112, 128)     147584    \n",
      "_________________________________________________________________\n",
      "block2_pool (MaxPooling2D)   (None, 56, 56, 128)       0         \n",
      "_________________________________________________________________\n",
      "block3_conv1 (Conv2D)        (None, 56, 56, 256)       295168    \n",
      "_________________________________________________________________\n",
      "block3_conv2 (Conv2D)        (None, 56, 56, 256)       590080    \n",
      "_________________________________________________________________\n",
      "block3_conv3 (Conv2D)        (None, 56, 56, 256)       590080    \n",
      "_________________________________________________________________\n",
      "block3_pool (MaxPooling2D)   (None, 28, 28, 256)       0         \n",
      "_________________________________________________________________\n",
      "block4_conv1 (Conv2D)        (None, 28, 28, 512)       1180160   \n",
      "_________________________________________________________________\n",
      "block4_conv2 (Conv2D)        (None, 28, 28, 512)       2359808   \n",
      "_________________________________________________________________\n",
      "block4_conv3 (Conv2D)        (None, 28, 28, 512)       2359808   \n",
      "_________________________________________________________________\n",
      "block4_pool (MaxPooling2D)   (None, 14, 14, 512)       0         \n",
      "_________________________________________________________________\n",
      "block5_conv1 (Conv2D)        (None, 14, 14, 512)       2359808   \n",
      "_________________________________________________________________\n",
      "block5_conv2 (Conv2D)        (None, 14, 14, 512)       2359808   \n",
      "_________________________________________________________________\n",
      "block5_conv3 (Conv2D)        (None, 14, 14, 512)       2359808   \n",
      "_________________________________________________________________\n",
      "block5_pool (MaxPooling2D)   (None, 7, 7, 512)         0         \n",
      "=================================================================\n",
      "Total params: 14,714,688\n",
      "Trainable params: 14,714,688\n",
      "Non-trainable params: 0\n",
      "_________________________________________________________________\n"
     ]
    }
   ],
   "source": [
    "base_model = VGG16(weights='imagenet', include_top=False, input_tensor=input_tensor)\n",
    "print('Model loaded.')\n",
    "base_model.summary()\n"
   ]
  },
  {
   "cell_type": "code",
   "execution_count": 62,
   "metadata": {},
   "outputs": [
    {
     "name": "stdout",
     "output_type": "stream",
     "text": [
      "Model: \"sequential_2\"\n",
      "_________________________________________________________________\n",
      "Layer (type)                 Output Shape              Param #   \n",
      "=================================================================\n",
      "flatten_2 (Flatten)          (None, 25088)             0         \n",
      "_________________________________________________________________\n",
      "dense_4 (Dense)              (None, 256)               6422784   \n",
      "_________________________________________________________________\n",
      "dropout_2 (Dropout)          (None, 256)               0         \n",
      "_________________________________________________________________\n",
      "dense_5 (Dense)              (None, 3)                 771       \n",
      "=================================================================\n",
      "Total params: 6,423,555\n",
      "Trainable params: 6,423,555\n",
      "Non-trainable params: 0\n",
      "_________________________________________________________________\n"
     ]
    }
   ],
   "source": [
    "top_model = Sequential()\n",
    "top_model.add(Flatten(input_shape=base_model.output_shape[1:]))\n",
    "top_model.add(Dense(256, activation='relu'))\n",
    "top_model.add(Dropout(0.5))\n",
    "top_model.add(Dense(n_targets, activation='softmax'))\n",
    "\n",
    "top_model.summary()"
   ]
  },
  {
   "cell_type": "code",
   "execution_count": 63,
   "metadata": {},
   "outputs": [
    {
     "name": "stdout",
     "output_type": "stream",
     "text": [
      "Model: \"model_2\"\n",
      "_________________________________________________________________\n",
      "Layer (type)                 Output Shape              Param #   \n",
      "=================================================================\n",
      "input_6 (InputLayer)         [(None, 224, 224, 3)]     0         \n",
      "_________________________________________________________________\n",
      "block1_conv1 (Conv2D)        (None, 224, 224, 64)      1792      \n",
      "_________________________________________________________________\n",
      "block1_conv2 (Conv2D)        (None, 224, 224, 64)      36928     \n",
      "_________________________________________________________________\n",
      "block1_pool (MaxPooling2D)   (None, 112, 112, 64)      0         \n",
      "_________________________________________________________________\n",
      "block2_conv1 (Conv2D)        (None, 112, 112, 128)     73856     \n",
      "_________________________________________________________________\n",
      "block2_conv2 (Conv2D)        (None, 112, 112, 128)     147584    \n",
      "_________________________________________________________________\n",
      "block2_pool (MaxPooling2D)   (None, 56, 56, 128)       0         \n",
      "_________________________________________________________________\n",
      "block3_conv1 (Conv2D)        (None, 56, 56, 256)       295168    \n",
      "_________________________________________________________________\n",
      "block3_conv2 (Conv2D)        (None, 56, 56, 256)       590080    \n",
      "_________________________________________________________________\n",
      "block3_conv3 (Conv2D)        (None, 56, 56, 256)       590080    \n",
      "_________________________________________________________________\n",
      "block3_pool (MaxPooling2D)   (None, 28, 28, 256)       0         \n",
      "_________________________________________________________________\n",
      "block4_conv1 (Conv2D)        (None, 28, 28, 512)       1180160   \n",
      "_________________________________________________________________\n",
      "block4_conv2 (Conv2D)        (None, 28, 28, 512)       2359808   \n",
      "_________________________________________________________________\n",
      "block4_conv3 (Conv2D)        (None, 28, 28, 512)       2359808   \n",
      "_________________________________________________________________\n",
      "block4_pool (MaxPooling2D)   (None, 14, 14, 512)       0         \n",
      "_________________________________________________________________\n",
      "block5_conv1 (Conv2D)        (None, 14, 14, 512)       2359808   \n",
      "_________________________________________________________________\n",
      "block5_conv2 (Conv2D)        (None, 14, 14, 512)       2359808   \n",
      "_________________________________________________________________\n",
      "block5_conv3 (Conv2D)        (None, 14, 14, 512)       2359808   \n",
      "_________________________________________________________________\n",
      "block5_pool (MaxPooling2D)   (None, 7, 7, 512)         0         \n",
      "_________________________________________________________________\n",
      "sequential_2 (Sequential)    (None, 3)                 6423555   \n",
      "=================================================================\n",
      "Total params: 21,138,243\n",
      "Trainable params: 21,138,243\n",
      "Non-trainable params: 0\n",
      "_________________________________________________________________\n"
     ]
    }
   ],
   "source": [
    "model = Model(inputs=base_model.input, outputs=top_model(base_model.output))\n",
    "model.summary()\n"
   ]
  },
  {
   "cell_type": "code",
   "execution_count": 64,
   "metadata": {},
   "outputs": [],
   "source": [
    "num_layers_to_freeze = 15\n"
   ]
  },
  {
   "cell_type": "code",
   "execution_count": 65,
   "metadata": {},
   "outputs": [],
   "source": [
    "for layer in model.layers[:num_layers_to_freeze]:\n",
    "    layer.trainable = False\n",
    "\n",
    "\n",
    "model.compile(optimizer=optimizers.SGD(lr=1e-4, momentum=0.9), \n",
    "                      loss='categorical_crossentropy', \n",
    "                      metrics=['accuracy', top_5_accuracy])\n",
    "\n",
    "\n",
    "# serialize model to JSON\n",
    "model_json = model.to_json()\n",
    "model_filename = \"cough_model_artifacts/vgg16_model_{}_frozen_layers.json\".format(num_layers_to_freeze)\n",
    "\n",
    "with open(model_filename, \"w\") as json_file:\n",
    "    json_file.write(model_json)\n",
    "    "
   ]
  },
  {
   "cell_type": "code",
   "execution_count": 66,
   "metadata": {},
   "outputs": [
    {
     "name": "stdout",
     "output_type": "stream",
     "text": [
      "Epoch 1/20\n",
      "6/6 [==============================] - 66s 10s/step - loss: 1.3418 - accuracy: 0.2803 - top_5_accuracy: 1.0000 - val_loss: 1.0867 - val_accuracy: 0.3750 - val_top_5_accuracy: 1.0000\n",
      "\n",
      "Epoch 00001: val_accuracy improved from -inf to 0.37500, saving model to cough_model_artifacts/esc50_vgg16_stft_weights_train_last_2_base_layers_best.hdf5\n",
      "Epoch 2/20\n",
      "6/6 [==============================] - 69s 11s/step - loss: 1.2324 - accuracy: 0.3864 - top_5_accuracy: 1.0000 - val_loss: 1.0433 - val_accuracy: 0.5417 - val_top_5_accuracy: 1.0000\n",
      "\n",
      "Epoch 00002: val_accuracy improved from 0.37500 to 0.54167, saving model to cough_model_artifacts/esc50_vgg16_stft_weights_train_last_2_base_layers_best.hdf5\n",
      "Epoch 3/20\n",
      "6/6 [==============================] - 64s 10s/step - loss: 1.1158 - accuracy: 0.3561 - top_5_accuracy: 1.0000 - val_loss: 0.9865 - val_accuracy: 0.4583 - val_top_5_accuracy: 1.0000\n",
      "\n",
      "Epoch 00003: val_accuracy did not improve from 0.54167\n",
      "Epoch 4/20\n",
      "6/6 [==============================] - 56s 9s/step - loss: 0.9908 - accuracy: 0.4470 - top_5_accuracy: 1.0000 - val_loss: 0.9006 - val_accuracy: 0.6250 - val_top_5_accuracy: 1.0000\n",
      "\n",
      "Epoch 00004: val_accuracy improved from 0.54167 to 0.62500, saving model to cough_model_artifacts/esc50_vgg16_stft_weights_train_last_2_base_layers_best.hdf5\n",
      "Epoch 5/20\n",
      "6/6 [==============================] - 59s 9s/step - loss: 0.9629 - accuracy: 0.5303 - top_5_accuracy: 1.0000 - val_loss: 0.8625 - val_accuracy: 0.5833 - val_top_5_accuracy: 1.0000\n",
      "\n",
      "Epoch 00005: val_accuracy did not improve from 0.62500\n",
      "Epoch 6/20\n",
      "6/6 [==============================] - 57s 9s/step - loss: 0.8719 - accuracy: 0.5909 - top_5_accuracy: 1.0000 - val_loss: 0.8292 - val_accuracy: 0.6250 - val_top_5_accuracy: 1.0000\n",
      "\n",
      "Epoch 00006: val_accuracy did not improve from 0.62500\n",
      "Epoch 7/20\n",
      "6/6 [==============================] - 56s 8s/step - loss: 0.8228 - accuracy: 0.6742 - top_5_accuracy: 1.0000 - val_loss: 0.7704 - val_accuracy: 0.7083 - val_top_5_accuracy: 1.0000\n",
      "\n",
      "Epoch 00007: val_accuracy improved from 0.62500 to 0.70833, saving model to cough_model_artifacts/esc50_vgg16_stft_weights_train_last_2_base_layers_best.hdf5\n",
      "Epoch 8/20\n",
      "6/6 [==============================] - 56s 9s/step - loss: 0.7997 - accuracy: 0.6591 - top_5_accuracy: 1.0000 - val_loss: 0.7251 - val_accuracy: 0.7083 - val_top_5_accuracy: 1.0000\n",
      "\n",
      "Epoch 00008: val_accuracy did not improve from 0.70833\n",
      "Epoch 9/20\n",
      "6/6 [==============================] - 56s 8s/step - loss: 0.7205 - accuracy: 0.6894 - top_5_accuracy: 1.0000 - val_loss: 0.7025 - val_accuracy: 0.7500 - val_top_5_accuracy: 1.0000\n",
      "\n",
      "Epoch 00009: val_accuracy improved from 0.70833 to 0.75000, saving model to cough_model_artifacts/esc50_vgg16_stft_weights_train_last_2_base_layers_best.hdf5\n",
      "Epoch 10/20\n",
      "6/6 [==============================] - 56s 9s/step - loss: 0.6679 - accuracy: 0.7576 - top_5_accuracy: 1.0000 - val_loss: 0.6473 - val_accuracy: 0.7500 - val_top_5_accuracy: 1.0000\n",
      "\n",
      "Epoch 00010: val_accuracy did not improve from 0.75000\n",
      "Epoch 11/20\n",
      "6/6 [==============================] - 55s 8s/step - loss: 0.6535 - accuracy: 0.7424 - top_5_accuracy: 1.0000 - val_loss: 0.6224 - val_accuracy: 0.7500 - val_top_5_accuracy: 1.0000\n",
      "\n",
      "Epoch 00011: val_accuracy did not improve from 0.75000\n",
      "Epoch 12/20\n",
      "6/6 [==============================] - 57s 9s/step - loss: 0.5868 - accuracy: 0.8333 - top_5_accuracy: 1.0000 - val_loss: 0.5877 - val_accuracy: 0.7917 - val_top_5_accuracy: 1.0000\n",
      "\n",
      "Epoch 00012: val_accuracy improved from 0.75000 to 0.79167, saving model to cough_model_artifacts/esc50_vgg16_stft_weights_train_last_2_base_layers_best.hdf5\n",
      "Epoch 13/20\n",
      "6/6 [==============================] - 57s 9s/step - loss: 0.5435 - accuracy: 0.8030 - top_5_accuracy: 1.0000 - val_loss: 0.5602 - val_accuracy: 0.7917 - val_top_5_accuracy: 1.0000\n",
      "\n",
      "Epoch 00013: val_accuracy did not improve from 0.79167\n",
      "Epoch 14/20\n",
      "6/6 [==============================] - 63s 10s/step - loss: 0.5405 - accuracy: 0.8333 - top_5_accuracy: 1.0000 - val_loss: 0.5369 - val_accuracy: 0.8750 - val_top_5_accuracy: 1.0000\n",
      "\n",
      "Epoch 00014: val_accuracy improved from 0.79167 to 0.87500, saving model to cough_model_artifacts/esc50_vgg16_stft_weights_train_last_2_base_layers_best.hdf5\n",
      "Epoch 15/20\n",
      "6/6 [==============================] - 64s 10s/step - loss: 0.4809 - accuracy: 0.8485 - top_5_accuracy: 1.0000 - val_loss: 0.5027 - val_accuracy: 0.7917 - val_top_5_accuracy: 1.0000\n",
      "\n",
      "Epoch 00015: val_accuracy did not improve from 0.87500\n",
      "Epoch 16/20\n",
      "6/6 [==============================] - 64s 10s/step - loss: 0.5101 - accuracy: 0.8636 - top_5_accuracy: 1.0000 - val_loss: 0.5098 - val_accuracy: 0.8333 - val_top_5_accuracy: 1.0000\n",
      "\n",
      "Epoch 00016: val_accuracy did not improve from 0.87500\n",
      "Epoch 17/20\n",
      "6/6 [==============================] - 75s 12s/step - loss: 0.4957 - accuracy: 0.8030 - top_5_accuracy: 1.0000 - val_loss: 0.4607 - val_accuracy: 0.8333 - val_top_5_accuracy: 1.0000\n",
      "\n",
      "Epoch 00017: val_accuracy did not improve from 0.87500\n",
      "Epoch 18/20\n",
      "6/6 [==============================] - 68s 10s/step - loss: 0.4532 - accuracy: 0.8258 - top_5_accuracy: 1.0000 - val_loss: 0.4384 - val_accuracy: 0.8750 - val_top_5_accuracy: 1.0000\n",
      "\n",
      "Epoch 00018: val_accuracy did not improve from 0.87500\n",
      "Epoch 19/20\n",
      "6/6 [==============================] - 73s 11s/step - loss: 0.4528 - accuracy: 0.8258 - top_5_accuracy: 1.0000 - val_loss: 0.4270 - val_accuracy: 0.8333 - val_top_5_accuracy: 1.0000\n",
      "\n",
      "Epoch 00019: val_accuracy did not improve from 0.87500\n",
      "Epoch 20/20\n",
      "6/6 [==============================] - 109s 17s/step - loss: 0.4140 - accuracy: 0.8712 - top_5_accuracy: 1.0000 - val_loss: 0.4149 - val_accuracy: 0.9167 - val_top_5_accuracy: 1.0000\n",
      "\n",
      "Epoch 00020: val_accuracy improved from 0.87500 to 0.91667, saving model to cough_model_artifacts/esc50_vgg16_stft_weights_train_last_2_base_layers_best.hdf5\n"
     ]
    },
    {
     "data": {
      "text/plain": [
       "<keras.callbacks.History at 0x1330aea00>"
      ]
     },
     "execution_count": 66,
     "metadata": {},
     "output_type": "execute_result"
    }
   ],
   "source": [
    "filepath = \"cough_model_artifacts/esc50_vgg16_stft_weights_train_last_2_base_layers_best.hdf5\"\n",
    "metric = 'val_accuracy'\n",
    "\n",
    "best_model_checkpoint = ModelCheckpoint(filepath, monitor=metric, verbose=5, save_best_only=True, mode='max')\n",
    "callbacks_list = [best_model_checkpoint]\n",
    "\n",
    "\n",
    "model.fit_generator(\n",
    "    training_generator,\n",
    "    steps_per_epoch=nb_training_samples/batch_size,\n",
    "    epochs=epochs,\n",
    "    validation_data=validation_generator,\n",
    "    validation_steps=nb_validation_samples/batch_size,\n",
    "    callbacks=callbacks_list)\n"
   ]
  },
  {
   "cell_type": "code",
   "execution_count": 67,
   "metadata": {},
   "outputs": [],
   "source": [
    "label_map = (training_generator.class_indices)"
   ]
  },
  {
   "cell_type": "code",
   "execution_count": 68,
   "metadata": {},
   "outputs": [],
   "source": [
    "json = json.dumps(label_map)\n",
    "f = open(\"cough_model_artifacts/cough_label_map.json\",\"w\")\n",
    "f.write(json)\n",
    "f.close()"
   ]
  },
  {
   "cell_type": "code",
   "execution_count": 69,
   "metadata": {},
   "outputs": [
    {
     "name": "stdout",
     "output_type": "stream",
     "text": [
      "INFO:tensorflow:Assets written to: cough_model_artifacts/cough_model/assets\n"
     ]
    }
   ],
   "source": [
    "model.save(\"cough_model_artifacts/cough_model\", save_format=\"tf\")\n"
   ]
  },
  {
   "cell_type": "code",
   "execution_count": 70,
   "metadata": {},
   "outputs": [],
   "source": [
    "testing_dir = './wavelets/wavelet_selected/testing/'\n",
    "\n",
    "y_true = []\n",
    "y_pred = []\n",
    "\n",
    "\n",
    "for label in label_map.keys():\n",
    "    \n",
    "    file_list = os.listdir(testing_dir + label)\n",
    "    \n",
    "    for file_name in file_list:\n",
    "        img_path = testing_dir + label + '/' + file_name\n",
    "        \n",
    "        img = image.load_img(img_path, target_size=(224, 224))\n",
    "        \n",
    "        x = image.img_to_array(img)\n",
    "        x = np.expand_dims(x, axis=0)* 1./255\n",
    "        \n",
    "        preds = model.predict(x)[0]\n",
    "        \n",
    "        y_true.append(label)\n",
    "        y_pred.append(get_top_k_predictions(preds, label_map, k=1)[0])\n"
   ]
  },
  {
   "cell_type": "code",
   "execution_count": 71,
   "metadata": {},
   "outputs": [
    {
     "name": "stdout",
     "output_type": "stream",
     "text": [
      "Confusion matrix, without normalization\n",
      "Normalized confusion matrix\n"
     ]
    },
    {
     "data": {
      "image/png": "[encoded data removed]",
      "text/plain": [
       "<Figure size 432x360 with 2 Axes>"
      ]
     },
     "metadata": {
      "needs_background": "light"
     },
     "output_type": "display_data"
    },
    {
     "data": {
      "image/png": "[encoded data removed]",
      "text/plain": [
       "<Figure size 432x360 with 2 Axes>"
      ]
     },
     "metadata": {
      "needs_background": "light"
     },
     "output_type": "display_data"
    }
   ],
   "source": [
    "cm = confusion_matrix(y_true, y_pred)\n",
    "\n",
    "plot_confusion_matrix(cm, sorted(label_map.keys()), normalize=False, title = 'cough_model_artifacts/wavelet_cough_vgg16')\n",
    "\n",
    "plot_confusion_matrix(cm, sorted(label_map.keys()), normalize=True, title = 'cough_model_artifacts/wavelet_cough_normalized')\n"
   ]
  },
  {
   "cell_type": "code",
   "execution_count": 72,
   "metadata": {},
   "outputs": [
    {
     "name": "stdout",
     "output_type": "stream",
     "text": [
      "              precision    recall  f1-score   support\n",
      "\n",
      "    clapping       0.89      1.00      0.94         8\n",
      "    coughing       0.89      1.00      0.94         8\n",
      "         dog       1.00      0.75      0.86         8\n",
      "\n",
      "    accuracy                           0.92        24\n",
      "   macro avg       0.93      0.92      0.91        24\n",
      "weighted avg       0.93      0.92      0.91        24\n",
      "\n",
      "xxxxxxx Done Testing xxxxxxxx\n"
     ]
    }
   ],
   "source": [
    "print(classification_report(y_true, y_pred, target_names = sorted(label_map.keys()) ))\n",
    "\n",
    "\n",
    "print('xxxxxxx Done Testing xxxxxxxx')"
   ]
  },
  {
   "cell_type": "code",
   "execution_count": 75,
   "metadata": {},
   "outputs": [
    {
     "name": "stdout",
     "output_type": "stream",
     "text": [
      "file: rob_1.2.1.png\n",
      "pedicted classes: \n",
      "[0.07509854 0.70664585 0.21825561]\n",
      "{'clapping': 0, 'coughing': 1, 'dog': 2}\n",
      "file: rob_1.2.3.png\n",
      "pedicted classes: \n",
      "[0.12526356 0.6229432  0.25179315]\n",
      "{'clapping': 0, 'coughing': 1, 'dog': 2}\n",
      "file: rob_1.2.2.png\n",
      "pedicted classes: \n",
      "[0.09444003 0.7520449  0.15351509]\n",
      "{'clapping': 0, 'coughing': 1, 'dog': 2}\n",
      "file: rob_1.1.1.png\n",
      "pedicted classes: \n",
      "[0.07313098 0.761097   0.16577205]\n",
      "{'clapping': 0, 'coughing': 1, 'dog': 2}\n",
      "file: rob_1.3.3.png\n",
      "pedicted classes: \n",
      "[0.10178683 0.6423016  0.25591153]\n",
      "{'clapping': 0, 'coughing': 1, 'dog': 2}\n",
      "file: rob_1.3.2.png\n",
      "pedicted classes: \n",
      "[0.10570247 0.6862415  0.20805597]\n",
      "{'clapping': 0, 'coughing': 1, 'dog': 2}\n",
      "file: rob_1.1.2.png\n",
      "pedicted classes: \n",
      "[0.09765886 0.69012654 0.21221465]\n",
      "{'clapping': 0, 'coughing': 1, 'dog': 2}\n",
      "file: rob_1.3.1.png\n",
      "pedicted classes: \n",
      "[0.08588168 0.7040726  0.21004575]\n",
      "{'clapping': 0, 'coughing': 1, 'dog': 2}\n",
      "file: rob_1.1.3.png\n",
      "pedicted classes: \n",
      "[0.14562687 0.46445858 0.38991448]\n",
      "{'clapping': 0, 'coughing': 1, 'dog': 2}\n"
     ]
    },
    {
     "data": {
      "image/png": "[encoded data removed]",
      "text/plain": [
       "<Figure size 864x576 with 1 Axes>"
      ]
     },
     "metadata": {
      "needs_background": "light"
     },
     "output_type": "display_data"
    },
    {
     "data": {
      "image/png": "[encoded data removed]",
      "text/plain": [
       "<Figure size 864x576 with 1 Axes>"
      ]
     },
     "metadata": {
      "needs_background": "light"
     },
     "output_type": "display_data"
    },
    {
     "data": {
      "image/png": "[encoded data removed]",
      "text/plain": [
       "<Figure size 864x576 with 1 Axes>"
      ]
     },
     "metadata": {
      "needs_background": "light"
     },
     "output_type": "display_data"
    },
    {
     "data": {
      "image/png": "[encoded data removed]",
      "text/plain": [
       "<Figure size 864x576 with 1 Axes>"
      ]
     },
     "metadata": {
      "needs_background": "light"
     },
     "output_type": "display_data"
    },
    {
     "data": {
      "image/png": "[encoded data removed]",
      "text/plain": [
       "<Figure size 864x576 with 1 Axes>"
      ]
     },
     "metadata": {
      "needs_background": "light"
     },
     "output_type": "display_data"
    },
    {
     "data": {
      "image/png": "[encoded data removed]",
      "text/plain": [
       "<Figure size 864x576 with 1 Axes>"
      ]
     },
     "metadata": {
      "needs_background": "light"
     },
     "output_type": "display_data"
    },
    {
     "data": {
      "image/png": "[encoded data removed]",
      "text/plain": [
       "<Figure size 864x576 with 1 Axes>"
      ]
     },
     "metadata": {
      "needs_background": "light"
     },
     "output_type": "display_data"
    },
    {
     "data": {
      "image/png": "[encoded data removed]",
      "text/plain": [
       "<Figure size 864x576 with 1 Axes>"
      ]
     },
     "metadata": {
      "needs_background": "light"
     },
     "output_type": "display_data"
    },
    {
     "data": {
      "image/png": "[encoded data removed]",
      "text/plain": [
       "<Figure size 864x576 with 1 Axes>"
      ]
     },
     "metadata": {
      "needs_background": "light"
     },
     "output_type": "display_data"
    }
   ],
   "source": [
    "testing_dir = './wavelets/wavelet_live/'\n",
    "    \n",
    "file_list = os.listdir(testing_dir)\n",
    "\n",
    "for file_name in file_list:\n",
    "    if(file_name.endswith('.png')):\n",
    "        y_true = []\n",
    "        y_pred = []\n",
    "        img_path = testing_dir + '/' + file_name\n",
    "\n",
    "        img = image.load_img(img_path, target_size=(224, 224))\n",
    "        \n",
    "        x = image.img_to_array(img)\n",
    "        x = np.expand_dims(x, axis=0)* 1./255\n",
    "        \n",
    "        preds = model.predict(x)[0]\n",
    "        print(\"file: \" + file_name)\n",
    "        print(\"pedicted classes: \")\n",
    "        print(preds)\n",
    "        if(round(preds[0], 2) > 0.08):\n",
    "            preds[0] = 1\n",
    "        if(round(preds[1], 2) > 0.83):\n",
    "            preds[1] = 1\n",
    "        if(round(preds[2], 2) > 0.04):\n",
    "            preds[2] = 1\n",
    "        # if(preds[1] < 0.75):\n",
    "        #     preds[1] = 0\n",
    "        print(label_map)\n",
    "\n",
    "        # Plot the figure.\n",
    "        freq_series = pd.Series(preds)\n",
    "\n",
    "        plt.figure(figsize=(12, 8))\n",
    "        ax = freq_series.plot(kind=\"bar\")\n",
    "        ax.set_title(file_name)\n",
    "        ax.set_xticklabels(label_map)\n",
    "\n",
    "        rects = ax.patches\n",
    "\n",
    "        for rect, label in zip(rects, label_map):\n",
    "            height = rect.get_height()\n",
    "\n",
    "        plt.savefig(img_path+\"_plotted.png\")\n"
   ]
  },
  {
   "cell_type": "code",
   "execution_count": 22,
   "metadata": {},
   "outputs": [
    {
     "name": "stdout",
     "output_type": "stream",
     "text": [
      "xxxxxxx Done xxxxxxxx\n"
     ]
    }
   ],
   "source": [
    "print('xxxxxxx Done xxxxxxxx')"
   ]
  }
 ],
 "metadata": {
  "interpreter": {
   "hash": "aee8b7b246df8f9039afb4144a1f6fd8d2ca17a180786b69acc140d282b71a49"
  },
  "kernelspec": {
   "display_name": "Python 3.9.9 64-bit",
   "language": "python",
   "name": "python3"
  },
  "language_info": {
   "codemirror_mode": {
    "name": "ipython",
    "version": 3
   },
   "file_extension": ".py",
   "mimetype": "text/x-python",
   "name": "python",
   "nbconvert_exporter": "python",
   "pygments_lexer": "ipython3",
   "version": "3.9.9"
  },
  "orig_nbformat": 4
 },
 "nbformat": 4,
 "nbformat_minor": 2
}
