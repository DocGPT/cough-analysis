{
 "cells": [
  {
   "cell_type": "code",
   "execution_count": 44,
   "metadata": {},
   "outputs": [],
   "source": [
    "import filecmp\n",
    "import os\n",
    "import subprocess\n",
    "import tempfile\n",
    "import librosa\n",
    "import matplotlib\n",
    "matplotlib.use('Agg')\n",
    "import matplotlib.pyplot as plt\n",
    "import numpy as np\n",
    "import pandas as pd\n",
    "import pytest\n",
    "import seaborn as sb\n",
    "import tqdm\n",
    "import io"
   ]
  },
  {
   "cell_type": "code",
   "execution_count": null,
   "metadata": {},
   "outputs": [],
   "source": []
  },
  {
   "cell_type": "code",
   "execution_count": 55,
   "metadata": {},
   "outputs": [],
   "source": [
    "\n",
    "\n",
    "@pytest.fixture(scope='module')\n",
    "def recording_list():\n",
    "    return sorted(os.listdir('audio'))\n",
    "\n",
    "\n",
    "@pytest.fixture(scope='module')\n",
    "def meta():\n",
    "    return pd.read_csv('meta/esc50.csv')\n",
    "\n",
    "\n",
    "def test_dataset_size(recording_list):\n",
    "    assert len(recording_list) == 2000\n",
    "\n",
    "\n",
    "def test_recordings(recording_list):\n",
    "    for recording in tqdm.tqdm(recording_list):\n",
    "        signal, rate = librosa.load('../audio/' + recording, sr=None, mono=False)\n",
    "\n",
    "        assert rate == 44100\n",
    "        assert len(signal.shape) == 1  # mono\n",
    "        assert len(signal) == 220500  # 5 seconds\n",
    "        assert np.max(signal) > 0\n",
    "        assert np.min(signal) < 0\n",
    "        assert np.abs(np.mean(signal)) < 0.2  # rough DC offset check\n",
    "\n",
    "\n",
    "def test_previews(meta):\n",
    "    np.random.seed(20171207)\n",
    "\n",
    "    recordings = meta.groupby('target')['filename'].apply(lambda cat: cat.sample(1)).reset_index()['filename']\n",
    "\n",
    "    f, ax = plt.subplots(1, 1, sharey=False, sharex=False, figsize=(8, 2))\n",
    "\n",
    "    with tempfile.TemporaryDirectory() as tmpdir:\n",
    "        for index in range(len(recordings)):\n",
    "            recording = recordings[index]\n",
    "            signal = librosa.load('../audio/' + recording, sr=44100)[0]\n",
    "            spec = librosa.feature.melspectrogram(signal, sr=44100, n_fft=2205, hop_length=441)\n",
    "            spec = librosa.power_to_db(spec)\n",
    "\n",
    "            category = meta[meta.filename == recording].category.values[0]\n",
    "\n",
    "            ax.imshow(spec, origin='lower', interpolation=None, cmap='viridis', aspect=1.1)\n",
    "            ax.set_title(f'{category} - {recording}', fontsize=11)\n",
    "            ax.get_yaxis().set_visible(False)\n",
    "            ax.get_xaxis().set_visible(False)\n",
    "            f.tight_layout()\n",
    "            plt.savefig(f'{tmpdir}/{index:02d}.png', bbox_inches='tight', dpi=72)\n",
    "\n",
    "        subprocess.call(['convert', '-delay', '100', '-loop', '0', f'{tmpdir}/*.png', '_esc50.gif'])\n",
    "\n",
    "    assert filecmp.cmp('../esc50.gif', '_esc50.gif', \"assert error occured\")\n"
   ]
  },
  {
   "cell_type": "code",
   "execution_count": 56,
   "metadata": {},
   "outputs": [],
   "source": [
    "test_dataset_size(os.listdir('../audio'))"
   ]
  },
  {
   "cell_type": "code",
   "execution_count": 57,
   "metadata": {},
   "outputs": [
    {
     "name": "stderr",
     "output_type": "stream",
     "text": [
      "100%|██████████| 2000/2000 [00:08<00:00, 247.81it/s]\n"
     ]
    }
   ],
   "source": [
    "test_recordings(os.listdir('../audio'))"
   ]
  },
  {
   "cell_type": "code",
   "execution_count": 58,
   "metadata": {},
   "outputs": [
    {
     "ename": "AssertionError",
     "evalue": "",
     "output_type": "error",
     "traceback": [
      "\u001b[0;31m---------------------------------------------------------------------------\u001b[0m",
      "\u001b[0;31mAssertionError\u001b[0m                            Traceback (most recent call last)",
      "\u001b[0;32m<ipython-input-58-35fc948d54eb>\u001b[0m in \u001b[0;36m<module>\u001b[0;34m\u001b[0m\n\u001b[0;32m----> 1\u001b[0;31m \u001b[0mtest_previews\u001b[0m\u001b[0;34m(\u001b[0m\u001b[0mpd\u001b[0m\u001b[0;34m.\u001b[0m\u001b[0mread_csv\u001b[0m\u001b[0;34m(\u001b[0m\u001b[0;34m'../meta/esc50.csv'\u001b[0m\u001b[0;34m)\u001b[0m\u001b[0;34m)\u001b[0m\u001b[0;34m\u001b[0m\u001b[0;34m\u001b[0m\u001b[0m\n\u001b[0m",
      "\u001b[0;32m<ipython-input-55-097ce8354640>\u001b[0m in \u001b[0;36mtest_previews\u001b[0;34m(meta)\u001b[0m\n\u001b[1;32m     50\u001b[0m         \u001b[0msubprocess\u001b[0m\u001b[0;34m.\u001b[0m\u001b[0mcall\u001b[0m\u001b[0;34m(\u001b[0m\u001b[0;34m[\u001b[0m\u001b[0;34m'convert'\u001b[0m\u001b[0;34m,\u001b[0m \u001b[0;34m'-delay'\u001b[0m\u001b[0;34m,\u001b[0m \u001b[0;34m'100'\u001b[0m\u001b[0;34m,\u001b[0m \u001b[0;34m'-loop'\u001b[0m\u001b[0;34m,\u001b[0m \u001b[0;34m'0'\u001b[0m\u001b[0;34m,\u001b[0m \u001b[0;34mf'{tmpdir}/*.png'\u001b[0m\u001b[0;34m,\u001b[0m \u001b[0;34m'_esc50.gif'\u001b[0m\u001b[0;34m]\u001b[0m\u001b[0;34m)\u001b[0m\u001b[0;34m\u001b[0m\u001b[0;34m\u001b[0m\u001b[0m\n\u001b[1;32m     51\u001b[0m \u001b[0;34m\u001b[0m\u001b[0m\n\u001b[0;32m---> 52\u001b[0;31m     \u001b[0;32massert\u001b[0m \u001b[0mfilecmp\u001b[0m\u001b[0;34m.\u001b[0m\u001b[0mcmp\u001b[0m\u001b[0;34m(\u001b[0m\u001b[0;34m'../esc50.gif'\u001b[0m\u001b[0;34m,\u001b[0m \u001b[0;34m'_esc50.gif'\u001b[0m\u001b[0;34m,\u001b[0m \u001b[0;34m\"assert error occured\"\u001b[0m\u001b[0;34m)\u001b[0m\u001b[0;34m\u001b[0m\u001b[0;34m\u001b[0m\u001b[0m\n\u001b[0m",
      "\u001b[0;31mAssertionError\u001b[0m: "
     ]
    }
   ],
   "source": [
    "test_previews(pd.read_csv('../meta/esc50.csv'))"
   ]
  },
  {
   "cell_type": "code",
   "execution_count": null,
   "metadata": {},
   "outputs": [],
   "source": []
  }
 ],
 "metadata": {
  "kernelspec": {
   "display_name": "Python 3",
   "language": "python",
   "name": "python3"
  },
  "language_info": {
   "codemirror_mode": {
    "name": "ipython",
    "version": 3
   },
   "file_extension": ".py",
   "mimetype": "text/x-python",
   "name": "python",
   "nbconvert_exporter": "python",
   "pygments_lexer": "ipython3",
   "version": "3.8.3"
  }
 },
 "nbformat": 4,
 "nbformat_minor": 4
}
